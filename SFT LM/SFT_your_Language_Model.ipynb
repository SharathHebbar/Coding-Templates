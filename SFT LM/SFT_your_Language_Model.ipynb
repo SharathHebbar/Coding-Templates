{
  "metadata": {
    "colab": {
      "provenance": [],
      "gpuType": "T4"
    },
    "kernelspec": {
      "name": "python3",
      "display_name": "Python 3",
      "language": "python"
    },
    "language_info": {
      "name": "python",
      "version": "3.10.12",
      "mimetype": "text/x-python",
      "codemirror_mode": {
        "name": "ipython",
        "version": 3
      },
      "pygments_lexer": "ipython3",
      "nbconvert_exporter": "python",
      "file_extension": ".py"
    },
    "accelerator": "GPU",
    "kaggle": {
      "accelerator": "none",
      "dataSources": [],
      "dockerImageVersionId": 30636,
      "isInternetEnabled": true,
      "language": "python",
      "sourceType": "notebook",
      "isGpuEnabled": false
    }
  },
  "nbformat_minor": 0,
  "nbformat": 4,
  "cells": [
    {
      "cell_type": "code",
      "source": [
        "# @title # Disable Weights and Biases\n",
        "\n",
        "# @markdown ### Enable this cell if you are using this notebook in Kaggle\n",
        "\n",
        "# import wandb\n",
        "# wandb.init(mode=\"disabled\")"
      ],
      "metadata": {
        "execution": {
          "iopub.status.busy": "2024-02-06T16:20:28.377940Z",
          "iopub.execute_input": "2024-02-06T16:20:28.378308Z",
          "iopub.status.idle": "2024-02-06T16:20:30.617761Z",
          "shell.execute_reply.started": "2024-02-06T16:20:28.378274Z",
          "shell.execute_reply": "2024-02-06T16:20:30.616696Z"
        },
        "trusted": true,
        "id": "w1eXH9O904oQ",
        "cellView": "form"
      },
      "execution_count": null,
      "outputs": []
    },
    {
      "cell_type": "code",
      "source": [
        "# @title # Installing Libraries\n",
        "\n",
        "!pip install -q -U accelerate\n",
        "!pip install -q -U datasets\n",
        "!pip install -q -U trl"
      ],
      "metadata": {
        "id": "KJrcUCKs7X9S",
        "execution": {
          "iopub.status.busy": "2024-02-06T16:20:30.619641Z",
          "iopub.execute_input": "2024-02-06T16:20:30.620169Z",
          "iopub.status.idle": "2024-02-06T16:21:10.371085Z",
          "shell.execute_reply.started": "2024-02-06T16:20:30.620136Z",
          "shell.execute_reply": "2024-02-06T16:21:10.369955Z"
        },
        "trusted": true,
        "cellView": "form"
      },
      "execution_count": null,
      "outputs": []
    },
    {
      "cell_type": "code",
      "source": [
        "# @title # Importing Libraries\n",
        "\n",
        "import torch\n",
        "import gc\n",
        "from transformers import (\n",
        "    AutoTokenizer,\n",
        "    AutoModelForCausalLM,\n",
        "    DataCollatorForLanguageModeling,\n",
        "    Trainer,\n",
        "    TrainingArguments,\n",
        ")\n",
        "from trl import SFTTrainer\n",
        "\n",
        "from datasets import load_dataset\n",
        "\n",
        "device = torch.device(\"cuda\" if torch.cuda.is_available() else \"cpu\")\n",
        "device"
      ],
      "metadata": {
        "id": "te74DElZ8r5t",
        "execution": {
          "iopub.status.busy": "2024-02-06T16:21:10.372455Z",
          "iopub.execute_input": "2024-02-06T16:21:10.372740Z",
          "iopub.status.idle": "2024-02-06T16:21:26.427527Z",
          "shell.execute_reply.started": "2024-02-06T16:21:10.372710Z",
          "shell.execute_reply": "2024-02-06T16:21:26.426624Z"
        },
        "trusted": true,
        "cellView": "form",
        "colab": {
          "base_uri": "https://localhost:8080/"
        },
        "outputId": "c8ad4687-0d0a-43d0-b413-e53349ad0286"
      },
      "execution_count": 2,
      "outputs": [
        {
          "output_type": "execute_result",
          "data": {
            "text/plain": [
              "device(type='cpu')"
            ]
          },
          "metadata": {},
          "execution_count": 2
        }
      ]
    },
    {
      "cell_type": "code",
      "source": [
        "# @title ## Free Memory\n",
        "\n",
        "def clean():\n",
        "    gc.collect()\n",
        "    torch.cuda.empty_cache()\n",
        "clean()"
      ],
      "metadata": {
        "execution": {
          "iopub.status.busy": "2024-02-06T16:21:55.249035Z",
          "iopub.execute_input": "2024-02-06T16:21:55.249401Z",
          "iopub.status.idle": "2024-02-06T16:21:55.254574Z",
          "shell.execute_reply.started": "2024-02-06T16:21:55.249367Z",
          "shell.execute_reply": "2024-02-06T16:21:55.253645Z"
        },
        "trusted": true,
        "id": "W2ZUAmAj04oU",
        "cellView": "form"
      },
      "execution_count": 3,
      "outputs": []
    },
    {
      "cell_type": "code",
      "source": [
        "# @title ## Your Model and Dataset\n",
        "\n",
        "# @markdown ### Model\n",
        "# @markdown Select your model\n",
        "\n",
        "model_name = \"Sharathhebbar24/math_gpt2_sft\" # @param {type:\"string\"}\n",
        "\n",
        "# @markdown ### Dataset\n",
        "# @markdown Select your datasets\n",
        "\n",
        "dataset_name = \"gamino/wiki_medical_terms\" # @param {type:\"string\"}\n",
        "\n",
        "# @markdown ### Choose your split\n",
        "\n",
        "split = \"train\" # @param {type: \"string\"}\n"
      ],
      "metadata": {
        "id": "lChdRaiR81Dc",
        "execution": {
          "iopub.status.busy": "2024-02-06T16:21:26.461496Z",
          "iopub.execute_input": "2024-02-06T16:21:26.461737Z",
          "iopub.status.idle": "2024-02-06T16:21:26.470481Z",
          "shell.execute_reply.started": "2024-02-06T16:21:26.461715Z",
          "shell.execute_reply": "2024-02-06T16:21:26.469634Z"
        },
        "trusted": true,
        "cellView": "form"
      },
      "execution_count": 4,
      "outputs": []
    },
    {
      "cell_type": "code",
      "source": [
        "# @title ## Load Model and Dataset\n",
        "\n",
        "try:\n",
        "  model = AutoModelForCausalLM.from_pretrained(model_name).to(device)\n",
        "except:\n",
        "  print(\"Check if the model exists or not\")\n",
        "if split is None or split == \"\":\n",
        "  split = \"train\"\n",
        "try:\n",
        "  dataset = load_dataset(dataset_name, split=split)\n",
        "  print(dataset.to_pandas().head())\n",
        "  num_rows = dataset.num_rows\n",
        "  print(\"Total number of rows in dataset is: \", num_rows)\n",
        "except:\n",
        "  print(\"Check if dataset or split exists or not\")\n"
      ],
      "metadata": {
        "execution": {
          "iopub.status.busy": "2024-02-06T16:21:26.471540Z",
          "iopub.execute_input": "2024-02-06T16:21:26.471790Z",
          "iopub.status.idle": "2024-02-06T16:21:55.247743Z",
          "shell.execute_reply.started": "2024-02-06T16:21:26.471768Z",
          "shell.execute_reply": "2024-02-06T16:21:55.246754Z"
        },
        "trusted": true,
        "id": "QiyIpOO_04oU",
        "cellView": "form"
      },
      "execution_count": null,
      "outputs": []
    },
    {
      "cell_type": "code",
      "source": [
        "# @title ## Test Size\n",
        "test_size = 0.1 # @param {type:\"slider\", min:0.1, max:0.5, step:0.1}\n",
        "dataset = dataset.shuffle(42).select(range(num_rows)).train_test_split(test_size=test_size, seed=42)\n",
        "dataset"
      ],
      "metadata": {
        "execution": {
          "iopub.status.busy": "2024-02-06T16:22:19.528286Z",
          "iopub.execute_input": "2024-02-06T16:22:19.528583Z",
          "iopub.status.idle": "2024-02-06T16:22:19.586183Z",
          "shell.execute_reply.started": "2024-02-06T16:22:19.528559Z",
          "shell.execute_reply": "2024-02-06T16:22:19.585275Z"
        },
        "trusted": true,
        "id": "P-Y149k304oW",
        "cellView": "form",
        "colab": {
          "base_uri": "https://localhost:8080/"
        },
        "outputId": "b0d2db2c-e914-4bc6-daa4-81067bd49f3e"
      },
      "execution_count": 6,
      "outputs": [
        {
          "output_type": "execute_result",
          "data": {
            "text/plain": [
              "DatasetDict({\n",
              "    train: Dataset({\n",
              "        features: ['page_title', 'page_text', '__index_level_0__'],\n",
              "        num_rows: 6174\n",
              "    })\n",
              "    test: Dataset({\n",
              "        features: ['page_title', 'page_text', '__index_level_0__'],\n",
              "        num_rows: 687\n",
              "    })\n",
              "})"
            ]
          },
          "metadata": {},
          "execution_count": 6
        }
      ]
    },
    {
      "cell_type": "code",
      "source": [
        "# @title ## Data Splitting and Tokenizing\n",
        "\n",
        "train_dataset = dataset['train']\n",
        "test_dataset = dataset['test']\n",
        "\n",
        "tokenizer = AutoTokenizer.from_pretrained(model_name)\n",
        "tokenizer.pad_token = tokenizer.eos_token\n",
        "\n",
        "data_collator = DataCollatorForLanguageModeling(tokenizer=tokenizer, mlm=False)\n",
        "data_collator"
      ],
      "metadata": {
        "execution": {
          "iopub.status.busy": "2024-02-06T16:22:37.126942Z",
          "iopub.execute_input": "2024-02-06T16:22:37.127785Z",
          "iopub.status.idle": "2024-02-06T16:22:39.660153Z",
          "shell.execute_reply.started": "2024-02-06T16:22:37.127753Z",
          "shell.execute_reply": "2024-02-06T16:22:39.659056Z"
        },
        "trusted": true,
        "id": "2EfiGIWq04oW",
        "cellView": "form"
      },
      "execution_count": null,
      "outputs": []
    },
    {
      "cell_type": "code",
      "source": [
        "# @title ## Training Arguments\n",
        "\n",
        "batch_size = 2 # @param {type:\"integer\"}\n",
        "max_steps = 100 # @param {type:\"integer\"}\n",
        "gradient_accumulation_steps = 2 # @param {type:\"integer\"}\n",
        "per_device_train_batch_size = 2 # @param {type:\"integer\"}\n",
        "per_device_eval_batch_size = 2 # @param {type:\"integer\"}\n",
        "learning_rate = 2e-5 # @param {type:\"number\"}\n",
        "output_dir = \"./models/gpt2\" # @param {type:\"string\"}\n",
        "\n",
        "# @markdown ## Enable it if you are using GPU\n",
        "fp16 = True # @param {type:\"boolean\"}\n",
        "\n",
        "training_arguments = TrainingArguments(\n",
        "    output_dir=output_dir,\n",
        "    gradient_accumulation_steps=gradient_accumulation_steps,\n",
        "    evaluation_strategy=\"steps\",\n",
        "    do_eval=True,\n",
        "    per_device_train_batch_size=per_device_train_batch_size,\n",
        "    per_device_eval_batch_size=per_device_eval_batch_size,\n",
        "    log_level=\"debug\",\n",
        "    save_strategy=\"no\",\n",
        "    save_total_limit=2,\n",
        "    save_safetensors=True,\n",
        "    fp16=fp16,\n",
        "    logging_steps=50,\n",
        "    learning_rate=learning_rate,\n",
        "    eval_steps=50,\n",
        "    max_steps=max_steps,\n",
        "    warmup_steps=30,\n",
        "    lr_scheduler_type=\"cosine\",\n",
        ")"
      ],
      "metadata": {
        "id": "cxc8sr_4-7DM",
        "execution": {
          "iopub.status.busy": "2024-02-06T16:24:41.640713Z",
          "iopub.execute_input": "2024-02-06T16:24:41.641166Z",
          "iopub.status.idle": "2024-02-06T16:24:41.652955Z",
          "shell.execute_reply.started": "2024-02-06T16:24:41.641129Z",
          "shell.execute_reply": "2024-02-06T16:24:41.651941Z"
        },
        "trusted": true,
        "cellView": "form"
      },
      "execution_count": 11,
      "outputs": []
    },
    {
      "cell_type": "code",
      "source": [
        "# @title ## Training\n",
        "\n",
        "dataset_text_field = \"page_text\" # @param {type:\"string\"}\n",
        "max_seq_length = 512 # @param {type:\"integer\"}\n",
        "trainer = SFTTrainer(\n",
        "        model=model,\n",
        "        train_dataset=train_dataset,\n",
        "        eval_dataset=test_dataset,\n",
        "        dataset_text_field=dataset_text_field,\n",
        "        max_seq_length=max_seq_length,\n",
        "        tokenizer=tokenizer,\n",
        "        args=training_arguments,\n",
        ")\n",
        "\n",
        "trainer.train()"
      ],
      "metadata": {
        "id": "bu-_d4YP_CkR",
        "execution": {
          "iopub.status.busy": "2024-02-06T16:24:43.533846Z",
          "iopub.execute_input": "2024-02-06T16:24:43.534471Z",
          "iopub.status.idle": "2024-02-06T17:00:40.433796Z",
          "shell.execute_reply.started": "2024-02-06T16:24:43.534440Z",
          "shell.execute_reply": "2024-02-06T17:00:40.432886Z"
        },
        "trusted": true,
        "cellView": "form"
      },
      "execution_count": null,
      "outputs": []
    },
    {
      "cell_type": "code",
      "source": [
        "# @title ## Pushing to Hub\n",
        "MODEL_PATH = \"Sharathhebbar24/math_gpt2_sft\" # @param {type:\"string\"}\n",
        "HF_TOKEN = \"\" # @param {type:\"string\"}\n",
        "\n",
        "tokenizer.push_to_hub(\n",
        "    MODEL_PATH,\n",
        "    token=HF_TOKEN\n",
        ")\n",
        "\n",
        "model.push_to_hub(\n",
        "    MODEL_PATH,\n",
        "    token=HF_TOKEN\n",
        ")"
      ],
      "metadata": {
        "execution": {
          "iopub.status.busy": "2024-02-06T17:18:54.732865Z",
          "iopub.execute_input": "2024-02-06T17:18:54.733522Z",
          "iopub.status.idle": "2024-02-06T17:18:54.737856Z",
          "shell.execute_reply.started": "2024-02-06T17:18:54.733491Z",
          "shell.execute_reply": "2024-02-06T17:18:54.736847Z"
        },
        "trusted": true,
        "id": "xJqXzrrC04oX",
        "cellView": "form"
      },
      "execution_count": null,
      "outputs": []
    }
  ]
}