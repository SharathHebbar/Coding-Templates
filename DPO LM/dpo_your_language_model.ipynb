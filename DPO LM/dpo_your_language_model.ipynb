{
  "cells": [
    {
      "cell_type": "code",
      "execution_count": null,
      "metadata": {
        "cellView": "form",
        "execution": {
          "iopub.execute_input": "2024-02-10T15:11:14.600053Z",
          "iopub.status.busy": "2024-02-10T15:11:14.599240Z",
          "iopub.status.idle": "2024-02-10T15:11:16.620693Z",
          "shell.execute_reply": "2024-02-10T15:11:16.619833Z",
          "shell.execute_reply.started": "2024-02-10T15:11:14.600006Z"
        },
        "id": "LiMswxlX0hAn",
        "outputId": "c16ef2dc-9e62-45a3-f195-dc19bed044c0",
        "trusted": true
      },
      "outputs": [
        {
          "data": {
            "text/plain": []
          },
          "execution_count": 1,
          "metadata": {},
          "output_type": "execute_result"
        }
      ],
      "source": [
        "# @title # Disable Weights and Biases\n",
        "\n",
        "# @markdown ### Enable this cell if you are using this notebook in Kaggle\n",
        "\n",
        "# import wandb\n",
        "# wandb.init(mode=\"disabled\")"
      ]
    },
    {
      "cell_type": "code",
      "execution_count": null,
      "metadata": {
        "cellView": "form",
        "execution": {
          "iopub.execute_input": "2024-02-10T15:11:16.622671Z",
          "iopub.status.busy": "2024-02-10T15:11:16.622257Z",
          "iopub.status.idle": "2024-02-10T15:12:07.380336Z",
          "shell.execute_reply": "2024-02-10T15:12:07.379115Z",
          "shell.execute_reply.started": "2024-02-10T15:11:16.622646Z"
        },
        "id": "KJrcUCKs7X9S",
        "trusted": true
      },
      "outputs": [],
      "source": [
        "# @title # Installing Libraries\n",
        "\n",
        "!pip install -q -U accelerate\n",
        "!pip install -q -U datasets\n",
        "!pip install -q -U trl"
      ]
    },
    {
      "cell_type": "code",
      "execution_count": null,
      "metadata": {
        "cellView": "form",
        "execution": {
          "iopub.execute_input": "2024-02-10T15:12:07.382450Z",
          "iopub.status.busy": "2024-02-10T15:12:07.382050Z",
          "iopub.status.idle": "2024-02-10T15:12:25.913560Z",
          "shell.execute_reply": "2024-02-10T15:12:25.912506Z",
          "shell.execute_reply.started": "2024-02-10T15:12:07.382414Z"
        },
        "id": "te74DElZ8r5t",
        "trusted": true
      },
      "outputs": [],
      "source": [
        "# @title # Importing Libraries\n",
        "\n",
        "import torch\n",
        "import gc\n",
        "from transformers import (\n",
        "    AutoTokenizer,\n",
        "    AutoModelForCausalLM,\n",
        "    DataCollatorForLanguageModeling,\n",
        "    Trainer,\n",
        "    TrainingArguments,\n",
        ")\n",
        "from datasets import load_dataset\n",
        "from trl import DPOTrainer\n",
        "\n",
        "device = torch.device(\"cuda\" if torch.cuda.is_available() else \"cpu\")\n",
        "device"
      ]
    },
    {
      "cell_type": "code",
      "execution_count": null,
      "metadata": {
        "cellView": "form",
        "id": "o8jpu1cb0wJB"
      },
      "outputs": [],
      "source": [
        "# @title ## Free Memory\n",
        "\n",
        "def clean():\n",
        "    gc.collect()\n",
        "    torch.cuda.empty_cache()\n",
        "clean()"
      ]
    },
    {
      "cell_type": "code",
      "execution_count": null,
      "metadata": {
        "cellView": "form",
        "execution": {
          "iopub.execute_input": "2024-02-10T15:12:25.916955Z",
          "iopub.status.busy": "2024-02-10T15:12:25.916162Z",
          "iopub.status.idle": "2024-02-10T15:12:25.921224Z",
          "shell.execute_reply": "2024-02-10T15:12:25.920353Z",
          "shell.execute_reply.started": "2024-02-10T15:12:25.916919Z"
        },
        "id": "lChdRaiR81Dc",
        "trusted": true
      },
      "outputs": [],
      "source": [
        "\n",
        "# @title ## Your Model and Dataset\n",
        "\n",
        "# @markdown ### Model\n",
        "# @markdown Select your model\n",
        "\n",
        "model_name = \"Sharathhebbar24/SSH_300M\" # @param {type:\"string\"}\n",
        "\n",
        "# @markdown ### Dataset\n",
        "# @markdown Select your datasets\n",
        "\n",
        "dataset_name = \"Sharathhebbar24/orca_dpo_pairs\" # @param {type:\"string\"}\n",
        "\n",
        "# @markdown ### Choose your split\n",
        "\n",
        "split = \"train\" # @param {type: \"string\"}\n",
        "\n"
      ]
    },
    {
      "cell_type": "code",
      "execution_count": null,
      "metadata": {
        "cellView": "form",
        "execution": {
          "iopub.execute_input": "2024-02-10T15:12:34.097309Z",
          "iopub.status.busy": "2024-02-10T15:12:34.096470Z",
          "iopub.status.idle": "2024-02-10T15:12:34.416841Z",
          "shell.execute_reply": "2024-02-10T15:12:34.414843Z",
          "shell.execute_reply.started": "2024-02-10T15:12:34.097270Z"
        },
        "id": "Z6v9GLyc0hAp",
        "trusted": true
      },
      "outputs": [],
      "source": [
        "# @title ## Load Model and Dataset\n",
        "\n",
        "try:\n",
        "  model = AutoModelForCausalLM.from_pretrained(model_name).to(device)\n",
        "  tokenizer = AutoTokenizer.from_pretrained(model_name)\n",
        "  tokenizer.pad_token = tokenizer.eos_token\n",
        "  tokenizer.padding_side = \"left\"\n",
        "\n",
        "except:\n",
        "  print(\"Check if the model exists or not\")\n",
        "if split is None or split == \"\":\n",
        "  split = \"train\"\n",
        "try:\n",
        "  dataset = load_dataset(dataset_name, split=split)\n",
        "  print(dataset.to_pandas().head())\n",
        "  num_rows = dataset.num_rows\n",
        "  print(\"Total number of rows in dataset is: \", num_rows)\n",
        "except:\n",
        "  print(\"Check if dataset or split exists or not\")\n"
      ]
    },
    {
      "cell_type": "code",
      "execution_count": null,
      "metadata": {
        "cellView": "form",
        "execution": {
          "iopub.execute_input": "2024-02-10T15:13:28.067027Z",
          "iopub.status.busy": "2024-02-10T15:13:28.066609Z",
          "iopub.status.idle": "2024-02-10T15:13:28.076641Z",
          "shell.execute_reply": "2024-02-10T15:13:28.075889Z",
          "shell.execute_reply.started": "2024-02-10T15:13:28.066997Z"
        },
        "id": "ucVuDKWM0hAr",
        "trusted": true
      },
      "outputs": [],
      "source": [
        "# @title ## Training Arguments\n",
        "\n",
        "batch_size = 2 # @param {type:\"integer\"}\n",
        "max_steps = 100 # @param {type:\"integer\"}\n",
        "gradient_accumulation_steps = 2 # @param {type:\"integer\"}\n",
        "per_device_train_batch_size = 2 # @param {type:\"integer\"}\n",
        "learning_rate = 2e-5 # @param {type:\"number\"}\n",
        "output_dir = \"./models/gpt2\" # @param {type:\"string\"}\n",
        "\n",
        "# @markdown ## Enable it if you are using GPU\n",
        "fp16 = True # @param {type:\"boolean\"}\n",
        "\n",
        "training_args = TrainingArguments(\n",
        "    per_device_train_batch_size=per_device_train_batch_size,\n",
        "    gradient_accumulation_steps=gradient_accumulation_steps,\n",
        "    gradient_checkpointing=True,\n",
        "    learning_rate=learning_rate,\n",
        "    lr_scheduler_type=\"cosine\",\n",
        "    max_steps=max_steps,\n",
        "    save_strategy=\"no\",\n",
        "    logging_steps=50,\n",
        "    output_dir=output_dir,\n",
        "    warmup_steps=max_steps//4,\n",
        "    fp16=fp16,\n",
        ")\n",
        "\n"
      ]
    },
    {
      "cell_type": "code",
      "execution_count": null,
      "metadata": {
        "cellView": "form",
        "execution": {
          "iopub.execute_input": "2024-02-10T15:13:30.624722Z",
          "iopub.status.busy": "2024-02-10T15:13:30.624330Z",
          "iopub.status.idle": "2024-02-10T15:22:03.599937Z",
          "shell.execute_reply": "2024-02-10T15:22:03.599012Z",
          "shell.execute_reply.started": "2024-02-10T15:13:30.624693Z"
        },
        "id": "5G7YG2Cc0hAr",
        "trusted": true
      },
      "outputs": [],
      "source": [
        "# @title ## Training DPO\n",
        "\n",
        "max_prompt_length = 512 # @param {type:\"integer\"}\n",
        "max_length = 1024 # @param {type:\"integer\"}\n",
        "\n",
        "dpo_trainer = DPOTrainer(\n",
        "    model,\n",
        "    args=training_args,\n",
        "    train_dataset=dataset,\n",
        "    tokenizer=tokenizer,\n",
        "    beta=0.1,\n",
        "    max_prompt_length=max_prompt_length,\n",
        "    max_length=max_length,\n",
        "\n",
        ")\n",
        "\n",
        "# Fine-tune model with DPO\n",
        "dpo_trainer.train()"
      ]
    },
    {
      "cell_type": "code",
      "execution_count": null,
      "metadata": {
        "cellView": "form",
        "execution": {
          "iopub.execute_input": "2024-02-10T15:22:20.443283Z",
          "iopub.status.busy": "2024-02-10T15:22:20.442888Z",
          "iopub.status.idle": "2024-02-10T15:22:20.448106Z",
          "shell.execute_reply": "2024-02-10T15:22:20.446952Z",
          "shell.execute_reply.started": "2024-02-10T15:22:20.443252Z"
        },
        "id": "nEoSWX3D0hAr",
        "trusted": true
      },
      "outputs": [],
      "source": [
        "# @title ## Pushing to Hub\n",
        "MODEL_PATH = \"Sharathhebbar24/Instruct_GPT_small\" # @param {type:\"string\"}\n",
        "HF_TOKEN = \"\" # @param {type:\"string\"}\n",
        "\n",
        "tokenizer.push_to_hub(\n",
        "    MODEL_PATH,\n",
        "    token=HF_TOKEN\n",
        ")\n",
        "\n",
        "model.push_to_hub(\n",
        "    MODEL_PATH,\n",
        "    token=HF_TOKEN\n",
        ")"
      ]
    },
    {
      "cell_type": "code",
      "execution_count": null,
      "metadata": {
        "id": "rq6WuTJh0hAs"
      },
      "outputs": [],
      "source": []
    }
  ],
  "metadata": {
    "accelerator": "GPU",
    "colab": {
      "gpuType": "T4",
      "provenance": []
    },
    "kaggle": {
      "accelerator": "none",
      "dataSources": [],
      "dockerImageVersionId": 30648,
      "isGpuEnabled": false,
      "isInternetEnabled": true,
      "language": "python",
      "sourceType": "notebook"
    },
    "kernelspec": {
      "display_name": "Python 3",
      "language": "python",
      "name": "python3"
    },
    "language_info": {
      "codemirror_mode": {
        "name": "ipython",
        "version": 3
      },
      "file_extension": ".py",
      "mimetype": "text/x-python",
      "name": "python",
      "nbconvert_exporter": "python",
      "pygments_lexer": "ipython3",
      "version": "3.10.13"
    }
  },
  "nbformat": 4,
  "nbformat_minor": 0
}
